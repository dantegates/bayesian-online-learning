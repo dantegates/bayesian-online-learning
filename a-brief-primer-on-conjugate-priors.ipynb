{
 "cells": [
  {
   "cell_type": "markdown",
   "metadata": {},
   "source": [
    "# A brief primer on conjuage priors"
   ]
  },
  {
   "cell_type": "markdown",
   "metadata": {},
   "source": [
    "This post attempts to indroduce conjugate priors and give some intuition as to why they work. While this post focuses largely on the technical details of conjugate priors, my next post will focus on conjugate priors in practice."
   ]
  },
  {
   "cell_type": "markdown",
   "metadata": {},
   "source": [
    "Consider the well known equation expressing Bayes' theorem\n",
    "\n",
    "\\begin{equation}\n",
    "P(\\theta \\ \\vert \\ D) = \\frac{P(D \\ \\vert \\ \\theta)P(\\theta)}{P(D)}\n",
    "\\end{equation}\n",
    "\n",
    "In the case of Bayesian inference,\n",
    "\n",
    "- $\\theta$ are our model parameters\n",
    "- $D$ is data we have observed\n",
    "- $P(\\theta \\ \\vert \\ D)$ is known as the _posterior probability_\n",
    "- $P(\\theta)$ is known as the _prior probability_\n",
    "- $P(D \\ \\vert \\ \\theta)$ is the likelihood of our model\n",
    "\n",
    "Recall that the goal of Bayesian inference is to treat $\\theta$ as a random variable and we typically search for the values of $\\theta$ which maximize the posterior probability. Since $P(D)$ is constant for all $\\theta$ we usually ignore this term and simply focus on the likelihood times the prior probability (in fact, in this post we'll ignore all constants), i.e.\n",
    "\n",
    "\\begin{equation}\n",
    "P(\\theta \\ \\vert \\ D) \\propto P(D \\ \\vert \\ \\theta)P(\\theta)\n",
    "\\end{equation}\n",
    "\n",
    "Typically this is hard or impossible to calculate analytically so we resort to numeric methods such as markov chain monte carlo methods.\n",
    "\n",
    "Enter conjugate priors. A conjugate prior is a prior that \"fits\" our model in such that we _can_ compute the posterior exactly from the values of our data and model parameters. That is, conjugate priors allow us to analytically derive an expression $f$ such that\n",
    "\n",
    "\\begin{equation}\n",
    "P(\\theta \\ \\vert \\ D) \\propto f(\\theta, D)\n",
    "\\end{equation}"
   ]
  },
  {
   "cell_type": "markdown",
   "metadata": {},
   "source": [
    "# Intuition"
   ]
  },
  {
   "cell_type": "markdown",
   "metadata": {},
   "source": [
    "In all cases the likelihood is the key to understanding how the conjugate prior is derived. Indeed, as stated above we choose the prior _precisely_ so that its probability multiplies nicely with the likelihood. In the example below we'll calculate the likelihood of a particular model. Once we have the likelihood calculated the choice of the prior becomes clear. While we'll specifically look at the Poisson distribution you could follow this same approach for any distribution although in practice you don't need to do this, instead you can just reference [this wiki page](https://en.wikipedia.org/wiki/Conjugate_prior)."
   ]
  },
  {
   "cell_type": "markdown",
   "metadata": {},
   "source": [
    "## An example"
   ]
  },
  {
   "cell_type": "markdown",
   "metadata": {},
   "source": [
    "As an example, we'll consider the Poisson distribution, and it's conjugate prior the Gamma distribution.\n",
    "\n",
    "First let's define our model.\n",
    "\n",
    "$$\n",
    "\\begin{align}\n",
    "&D\\sim \\text{Poi}(\\lambda)\\\\\n",
    "&\\lambda\\sim \\Gamma(\\alpha, \\beta) \\\\\n",
    "&\\alpha,\\beta\\text{ constants}\n",
    "\\end{align}\n",
    "$$\n",
    "\n",
    "Note that in our model $\\alpha,\\beta$ are not random variables as is $\\lambda$ is, but fixed and defined before we observe $D$.\n",
    "\n",
    "We begin by calculating the likelihood\n",
    "\\begin{align}\n",
    "P(D\\ \\vert \\ \\lambda)&=\\prod_{x_{i}\\in D}^{}{\\frac{\\lambda^{x_{i}}e^{-\\lambda}}{\\lambda!}} \\\\\n",
    "&\\propto\\prod_{x_{i}\\in D}^{}{\\lambda^{x_{i}}e^{-\\lambda}} \\\\\n",
    "&\\propto\\lambda^{\\sum_{x_{i}}^{n}{x_{i}}}e^{-n\\lambda}\n",
    "\\end{align}\n",
    "\n",
    "Plugging this into our equation above\n",
    "\n",
    "$$\n",
    "\\begin{equation}\n",
    "P(\\lambda\\ \\vert \\ D)\\propto\\left(\\lambda^{\\sum_{i=1}^{n}{x_{i}}}e^{-n\\lambda}\\right)P(\\lambda)\n",
    "\\end{equation}\n",
    "$$\n",
    "\n",
    "Now we can consider sensible choices for our prior, i.e. any distribution that plays nice with this formula for the posterior probability. As we can see, given a fixed $\\lambda$, we'll have two parameters that vary in the equation above, i.e. both of the exponents. Thus a distribution with a pdf like the following should do the trick\n",
    "\n",
    "$$f(\\lambda;\\alpha,\\beta)\\propto \\lambda^{\\alpha}e^{-\\beta\\lambda}$$\n",
    "\n",
    "Which, of course, is satisifed by the Gamma distribution and gives us the final calculation of the posterior probability\n",
    "\n",
    "$$\n",
    "\\begin{equation}\n",
    "P(\\lambda\\ \\vert \\ D)\\propto\\lambda^{\\sum_{i=1}^{n}{x_{i}+\\alpha}}e^{-(n+\\beta)\\lambda}\n",
    "\\end{equation}\n",
    "$$\n",
    "\n",
    "or\n",
    "\n",
    "$$\n",
    "\\begin{equation}\n",
    "P(\\lambda\\ \\vert \\ D)\\propto\\Gamma(\\alpha^{\\prime},\\beta^{\\prime})\n",
    "\\end{equation}\n",
    "$$\n",
    "\n",
    "where\n",
    "\n",
    "$$\n",
    "\\begin{align}\n",
    "&\\alpha^{\\prime}=\\sum_{i=1}^{n}{x_{i}+\\alpha} \\\\\n",
    "&\\beta^{\\prime}=n+\\beta\n",
    "\\end{align}\n",
    "$$\n",
    "\n",
    "Now let's write some code with that demonstrates how this works."
   ]
  },
  {
   "cell_type": "code",
   "execution_count": 1,
   "metadata": {},
   "outputs": [
    {
     "name": "stdout",
     "output_type": "stream",
     "text": [
      "MAP λ: 5.019959800401995\n"
     ]
    },
    {
     "data": {
      "image/png": "[encoded data removed]",
      "text/plain": [
       "<matplotlib.figure.Figure at 0x10e238400>"
      ]
     },
     "metadata": {},
     "output_type": "display_data"
    }
   ],
   "source": [
    "import matplotlib.pyplot as plt\n",
    "import scipy.stats as ss\n",
    "import utils\n",
    "\n",
    "# sample from poisson distribution to create D\n",
    "observations = ss.poisson(5).rvs(size=100)\n",
    "\n",
    "# define our priors, make them \"uninformative\"\n",
    "alpha_prior = beta_prior = 0.001\n",
    "\n",
    "# calculate the parameters of the posterior distribution according\n",
    "# to the formula we derived above\n",
    "alpha_posterior = sum(observations) + alpha_prior\n",
    "beta_posterior = len(observations) + beta_prior\n",
    "lambda_posterior = ss.gamma(alpha_posterior, scale=1/beta_posterior)\n",
    "\n",
    "# take the MAP of the prior on lambda to get the \"most likely\"\n",
    "# distribution fitting our observed data\n",
    "map_lambda = lambda_posterior.mean()\n",
    "print('MAP λ:', map_lambda)\n",
    "map_posterior = ss.poisson(map_lambda)\n",
    "\n",
    "f, ax = plt.subplots()\n",
    "ax.hist(observations, bins=10, color='b', alpha=0.2, density=True)\n",
    "utils.plot_pdf(map_posterior, discrete=True, ax=ax)"
   ]
  },
  {
   "cell_type": "markdown",
   "metadata": {},
   "source": [
    "# Final remarks"
   ]
  },
  {
   "cell_type": "markdown",
   "metadata": {},
   "source": [
    "There a few things to consider in conclusion.\n",
    "\n",
    "Having a closed form expression for the posterior probability of a model that can be updated with new data can be very useful, see my next post for an example. However, it is important to note that it is not always appropriate to define our models in such a way.\n",
    "\n",
    "I'll give two reasons explaining why. The first is that the conjugate prior was only determined because of its analytical convenience _not_ because it seemed appropriate given a specific problem or specific data. The second is that we can only find conjugate priors for simple models. I suppose this is why some people, for example why the stan authors, [don't care much for conjugate prios](https://github.com/stan-dev/stan/wiki/Prior-Choice-Recommendations#general-principles)."
   ]
  }
 ],
 "metadata": {
  "kernelspec": {
   "display_name": "Python 3",
   "language": "python",
   "name": "python3"
  },
  "language_info": {
   "codemirror_mode": {
    "name": "ipython",
    "version": 3
   },
   "file_extension": ".py",
   "mimetype": "text/x-python",
   "name": "python",
   "nbconvert_exporter": "python",
   "pygments_lexer": "ipython3",
   "version": "3.6.2"
  }
 },
 "nbformat": 4,
 "nbformat_minor": 2
}
